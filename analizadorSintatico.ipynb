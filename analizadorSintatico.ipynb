{
  "nbformat": 4,
  "nbformat_minor": 0,
  "metadata": {
    "colab": {
      "name": "analizadorSintatico.ipynb",
      "provenance": [],
      "collapsed_sections": []
    },
    "kernelspec": {
      "name": "python3",
      "display_name": "Python 3.9.5 64-bit ('maq': venv)"
    },
    "language_info": {
      "name": "python",
      "version": "3.9.5"
    },
    "interpreter": {
      "hash": "40866431389e399620475d8caf362561d8ccaeaffd1e6a1080f8502a242d336b"
    }
  },
  "cells": [
    {
      "cell_type": "code",
      "metadata": {
        "id": "3vA4umE5hEzJ"
      },
      "source": [
        "\n",
        "from dataclasses import dataclass\n",
        "from typing import List\n",
        "\n",
        "# clases abstractas\n",
        "\n",
        "@dataclass\n",
        "class Node:\n",
        "    pass\n",
        "\n",
        "@dataclass\n",
        "class Stmt(Node):\n",
        "    pass\n",
        "\n",
        "@dataclass\n",
        "class Expr(Node):\n",
        "    pass\n",
        "\n",
        "# clases concretas del AST\n",
        "@dataclass\n",
        "class Programan(Stmt):\n",
        "  stmt : List[Stmt]\n",
        "\n",
        "    \n",
        "\n",
        "@dataclass\n",
        "class Assignment(Stmt):\n",
        "    var : Expr\n",
        "    exp : Expr\n",
        "\n",
        "\n",
        "@dataclass\n",
        "class Binop(Expr):\n",
        "    op    : str\n",
        "    left  : Expr\n",
        "    right : Expr\n",
        "\n",
        "@dataclass\n",
        "class Unaryop(Expr):\n",
        "    op  : str\n",
        "    exp : Expr\n",
        "\n",
        "@dataclass\n",
        "class Variable(Expr):\n",
        "    name : str\n",
        "\n",
        "@dataclass\n",
        "class Number(Expr):\n",
        "    value : int\n",
        "\n",
        "@dataclass\n",
        "class Let(Stmt):\n",
        "    var : Expr\n",
        "    expr : Expr\n",
        "\n",
        "@dataclass\n",
        "class Read(Stmt):\n",
        "    var : List[Expr]\n",
        "\n",
        "\n",
        "@dataclass\n",
        "class Data(Stmt):\n",
        "    expr : List\n",
        "  \n",
        "@dataclass\n",
        "class Print(Stmt):\n",
        "    expr : List[Expr]\n",
        "\n",
        "@dataclass\n",
        "class If(Stmt):\n",
        "    expr : Expr\n",
        "\n",
        "@dataclass\n",
        "class Goto(Stmt):\n",
        "    line : int\n",
        "\n",
        "\n",
        "@dataclass\n",
        "class For(Stmt):\n",
        "  vars : Expr\n",
        "  init : Expr\n",
        "  to : Expr\n",
        "  step :Expr = None\n",
        "\n",
        "@dataclass\n",
        "class Next(Stmt):\n",
        "  vars : Expr\n",
        "\n",
        "@dataclass\n",
        "class Gosub(Stmt):\n",
        "    line : int\n",
        "\n",
        " \n",
        "\n",
        "    \n",
        "\n",
        "\n",
        "\n",
        "\n"
      ],
      "execution_count": 13,
      "outputs": []
    },
    {
      "cell_type": "code",
      "metadata": {
        "colab": {
          "base_uri": "https://localhost:8080/"
        },
        "id": "QaO-GS7G798A",
        "outputId": "5fec9f1d-5166-44d4-85fc-d17585e9b8fd"
      },
      "source": [
        "!pip install multimethod\n",
        "from multimethod import multimeta\n",
        "import graphviz as gv\n",
        "\n",
        "# Patron Visitor\n",
        "\n",
        "class Visitor(metaclass=multimeta):\n",
        "    pass\n",
        "\n",
        "\n",
        "class Dot(Visitor):\n",
        "    \n",
        "    _node_defaults = {\n",
        "        'color' : 'lightblue2',\n",
        "        'style' : 'filled'\n",
        "    }\n",
        "    \n",
        "    def __init__(self):\n",
        "        self.id = 0\n",
        "        self.dot = gv.Graph(name='AST',node_attr=self._node_defaults)\n",
        "\n",
        "    def name(self):\n",
        "        self.id += 1\n",
        "        return 'n%02d' % self.id\n",
        "\n",
        "    def visit(self, n: Assignment):\n",
        "        name = self.name()\n",
        "        self.dot.node(name, label='=')\n",
        "        var = self.visit(n.var)\n",
        "        exp = self.visit(n.exp)\n",
        "        self.dot.edge(name, var, label='var')\n",
        "        self.dot.edge(name, exp, label='exp')\n",
        "        return name\n",
        "\n",
        "    def visit(self, n: Binop):\n",
        "        name = self.name()\n",
        "        self.dot.node(name, label=n.op)\n",
        "        left  = self.visit(n.left)\n",
        "        right = self.visit(n.right)\n",
        "        self.dot.edge(name, left)\n",
        "        self.dot.edge(name, right)\n",
        "        return name\n",
        "\n",
        "    def visit(self, n: Unaryop):\n",
        "        name = self.name()\n",
        "        self.dot.node(name, label=n.op)\n",
        "        exp = self.visit(n.exp)\n",
        "        self.dot.edge(name, exp)\n",
        "        return name\n",
        "\n",
        "    def visit(self, n: Variable):\n",
        "        name = self.name()\n",
        "        self.dot.node(name, label=n.name, shape='box')\n",
        "        return name\n",
        "\n",
        "\n",
        "    def visit(self, n: Number):\n",
        "        name = self.name()\n",
        "        self.dot.node(name, label=str(n.value), shape='box')\n",
        "        return name"
      ],
      "execution_count": 10,
      "outputs": [
        {
          "output_type": "stream",
          "name": "stdout",
          "text": [
            "Requirement already satisfied: multimethod in c:\\users\\jhoan\\documents\\personal\\universidad\\maq\\lib\\site-packages (1.5)\n"
          ]
        },
        {
          "output_type": "error",
          "ename": "NameError",
          "evalue": "name 'Assignment' is not defined",
          "traceback": [
            "\u001b[1;31m---------------------------------------------------------------------------\u001b[0m",
            "\u001b[1;31mNameError\u001b[0m                                 Traceback (most recent call last)",
            "\u001b[1;32m<ipython-input-10-5c43b45dc595>\u001b[0m in \u001b[0;36m<module>\u001b[1;34m\u001b[0m\n\u001b[0;32m      9\u001b[0m \u001b[1;33m\u001b[0m\u001b[0m\n\u001b[0;32m     10\u001b[0m \u001b[1;33m\u001b[0m\u001b[0m\n\u001b[1;32m---> 11\u001b[1;33m \u001b[1;32mclass\u001b[0m \u001b[0mDot\u001b[0m\u001b[1;33m(\u001b[0m\u001b[0mVisitor\u001b[0m\u001b[1;33m)\u001b[0m\u001b[1;33m:\u001b[0m\u001b[1;33m\u001b[0m\u001b[1;33m\u001b[0m\u001b[0m\n\u001b[0m\u001b[0;32m     12\u001b[0m \u001b[1;33m\u001b[0m\u001b[0m\n\u001b[0;32m     13\u001b[0m     _node_defaults = {\n",
            "\u001b[1;32m<ipython-input-10-5c43b45dc595>\u001b[0m in \u001b[0;36mDot\u001b[1;34m()\u001b[0m\n\u001b[0;32m     24\u001b[0m         \u001b[1;32mreturn\u001b[0m \u001b[1;34m'n%02d'\u001b[0m \u001b[1;33m%\u001b[0m \u001b[0mself\u001b[0m\u001b[1;33m.\u001b[0m\u001b[0mid\u001b[0m\u001b[1;33m\u001b[0m\u001b[1;33m\u001b[0m\u001b[0m\n\u001b[0;32m     25\u001b[0m \u001b[1;33m\u001b[0m\u001b[0m\n\u001b[1;32m---> 26\u001b[1;33m     \u001b[1;32mdef\u001b[0m \u001b[0mvisit\u001b[0m\u001b[1;33m(\u001b[0m\u001b[0mself\u001b[0m\u001b[1;33m,\u001b[0m \u001b[0mn\u001b[0m\u001b[1;33m:\u001b[0m \u001b[0mAssignment\u001b[0m\u001b[1;33m)\u001b[0m\u001b[1;33m:\u001b[0m\u001b[1;33m\u001b[0m\u001b[1;33m\u001b[0m\u001b[0m\n\u001b[0m\u001b[0;32m     27\u001b[0m         \u001b[0mname\u001b[0m \u001b[1;33m=\u001b[0m \u001b[0mself\u001b[0m\u001b[1;33m.\u001b[0m\u001b[0mname\u001b[0m\u001b[1;33m(\u001b[0m\u001b[1;33m)\u001b[0m\u001b[1;33m\u001b[0m\u001b[1;33m\u001b[0m\u001b[0m\n\u001b[0;32m     28\u001b[0m         \u001b[0mself\u001b[0m\u001b[1;33m.\u001b[0m\u001b[0mdot\u001b[0m\u001b[1;33m.\u001b[0m\u001b[0mnode\u001b[0m\u001b[1;33m(\u001b[0m\u001b[0mname\u001b[0m\u001b[1;33m,\u001b[0m \u001b[0mlabel\u001b[0m\u001b[1;33m=\u001b[0m\u001b[1;34m'='\u001b[0m\u001b[1;33m)\u001b[0m\u001b[1;33m\u001b[0m\u001b[1;33m\u001b[0m\u001b[0m\n",
            "\u001b[1;31mNameError\u001b[0m: name 'Assignment' is not defined"
          ]
        }
      ]
    },
    {
      "cell_type": "code",
      "metadata": {
        "colab": {
          "base_uri": "https://localhost:8080/"
        },
        "id": "x74KDweTjM_R",
        "outputId": "86a72635-078f-4f5b-80e2-50c1f0d7a128"
      },
      "source": [
        "# Analizador lexico\n",
        "!pip install sly\n",
        "import sly\n",
        "\n",
        "class Lexer(sly.Lexer):\n",
        "    \n",
        "    tokens = {\n",
        "        NAME, NUMBER,LET, READ, DATA, PRINT, GOTO, IF, THEN, FOR, NEXT, TO, STEP, END,\n",
        "        STOP, DEF, GOSUB, DIM, REM, RETURN, RUN, LIST, NEW,\n",
        "    }\n",
        "    literals = '+-*/^=()'\n",
        "    \n",
        "    ignore = ' \\t\\r'\n",
        "    \n",
        "    NAME = r'[A-Z][0-9]?'\n",
        "   \n",
        "    @_(\"\\d+\")\n",
        "    def NUMBER(self, t):\n",
        "        t.value = int(t.value)\n",
        "        return t\n",
        "\n",
        "\n",
        "    \n",
        "    @_(\"\\n+\")\n",
        "    def ignore_newline(self, t):\n",
        "        self.lineno += t.value.count('\\n')\n",
        "    \n",
        "    def error(self, t):\n",
        "        print(f\"{t.lineno} - Caracter ilegal '{t.value[0]}'\")\n",
        "        self.index += 1"
      ],
      "execution_count": 6,
      "outputs": [
        {
          "output_type": "stream",
          "name": "stdout",
          "text": [
            "Requirement already satisfied: sly in c:\\users\\jhoan\\documents\\personal\\universidad\\maq\\lib\\site-packages (0.4)\n"
          ]
        }
      ]
    },
    {
      "cell_type": "code",
      "metadata": {
        "id": "wlNgnI17aXPk"
      },
      "source": [],
      "execution_count": null,
      "outputs": []
    },
    {
      "cell_type": "code",
      "metadata": {
        "id": "09d5zMeTnks7",
        "colab": {
          "base_uri": "https://localhost:8080/"
        },
        "outputId": "3292cfb3-430b-48e2-f8df-c6e3a87e74e9"
      },
      "source": [
        "class Parser(sly.Parser):\n",
        "    \n",
        "    #debugfile = \"calc.txt\"\n",
        "    \n",
        "    tokens = Lexer.tokens\n",
        "    \n",
        "    precedence = (\n",
        "        ('left', '+', '-'),\n",
        "        ('left', '*', '/'),\n",
        "        ('right', '^'),\n",
        "    )\n",
        "    \n",
        "    @_(\"variable '=' expr\")\n",
        "    def stmt(self, p):\n",
        "        return Assignment(p.variable, p.expr)\n",
        "\n",
        "    @_(\"expr\")\n",
        "    def stmt(self, p):\n",
        "        return p.expr\n",
        "\n",
        "    @_(\"expr '+' expr\",\n",
        "       \"expr '-' expr\",\n",
        "       \"expr '*' expr\",\n",
        "       \"expr '/' expr\",\n",
        "       \"expr '^' expr\")\n",
        "    def expr(self, p):\n",
        "        return Binop(p[1], p.expr0, p.expr1)\n",
        "\n",
        "    @_(\"'-' expr\")\n",
        "    def expr(self, p):\n",
        "        return Unaryop(p[0], p.expr)\n",
        "    \n",
        "    @_(\"'(' expr ')'\")\n",
        "    def expr(self, p):\n",
        "        return p.expr\n",
        "    \n",
        "    @_(\"variable\", \"number\")\n",
        "    def expr(self, p):\n",
        "        return p[0]\n",
        "\n",
        "    @_(\"NAME\")\n",
        "    def variable(self, p):\n",
        "        return Variable(p.NAME)\n",
        "    \n",
        "    @_(\"NUMBER\")\n",
        "    def number(self, p):\n",
        "        return Number(p.NUMBER)\n",
        "  \n",
        "    def error(self, p):\n",
        "        if p:\n",
        "            print(f\"Error de sintaxis en token: '{p.type}'\")\n",
        "            self.errok()\n",
        "        else:\n",
        "            print(\"Error de sintaxis en EOF\")\n",
        "\n",
        "    \n",
        "    "
      ],
      "execution_count": 7,
      "outputs": [
        {
          "output_type": "stream",
          "name": "stderr",
          "text": [
            "WARNING: Token(s) {RETURN,PRINT,STOP,FOR,GOSUB,NEW,REM,DATA,STEP,LET,DEF,READ,GOTO,NEXT,THEN,DIM,LIST,END,IF,TO,RUN} defined, but not used\nWARNING: There are 21 unused tokens\n"
          ]
        }
      ]
    },
    {
      "cell_type": "code",
      "execution_count": 5,
      "metadata": {},
      "outputs": [
        {
          "output_type": "stream",
          "name": "stderr",
          "text": [
            "Error: <stdin>: syntax error in line 3 near '''\n"
          ]
        },
        {
          "output_type": "error",
          "ename": "CalledProcessError",
          "evalue": "Command '['dot', '-Kdot', '-Tsvg']' returned non-zero exit status 1. [stderr: b\"Error: <stdin>: syntax error in line 3 near '''\\r\\n\"]",
          "traceback": [
            "\u001b[1;31m---------------------------------------------------------------------------\u001b[0m",
            "\u001b[1;31mCalledProcessError\u001b[0m                        Traceback (most recent call last)",
            "\u001b[1;32mc:\\Users\\Jhoan\\Documents\\personal\\universidad\\maq\\lib\\site-packages\\IPython\\core\\formatters.py\u001b[0m in \u001b[0;36m__call__\u001b[1;34m(self, obj)\u001b[0m\n\u001b[0;32m    343\u001b[0m             \u001b[0mmethod\u001b[0m \u001b[1;33m=\u001b[0m \u001b[0mget_real_method\u001b[0m\u001b[1;33m(\u001b[0m\u001b[0mobj\u001b[0m\u001b[1;33m,\u001b[0m \u001b[0mself\u001b[0m\u001b[1;33m.\u001b[0m\u001b[0mprint_method\u001b[0m\u001b[1;33m)\u001b[0m\u001b[1;33m\u001b[0m\u001b[1;33m\u001b[0m\u001b[0m\n\u001b[0;32m    344\u001b[0m             \u001b[1;32mif\u001b[0m \u001b[0mmethod\u001b[0m \u001b[1;32mis\u001b[0m \u001b[1;32mnot\u001b[0m \u001b[1;32mNone\u001b[0m\u001b[1;33m:\u001b[0m\u001b[1;33m\u001b[0m\u001b[1;33m\u001b[0m\u001b[0m\n\u001b[1;32m--> 345\u001b[1;33m                 \u001b[1;32mreturn\u001b[0m \u001b[0mmethod\u001b[0m\u001b[1;33m(\u001b[0m\u001b[1;33m)\u001b[0m\u001b[1;33m\u001b[0m\u001b[1;33m\u001b[0m\u001b[0m\n\u001b[0m\u001b[0;32m    346\u001b[0m             \u001b[1;32mreturn\u001b[0m \u001b[1;32mNone\u001b[0m\u001b[1;33m\u001b[0m\u001b[1;33m\u001b[0m\u001b[0m\n\u001b[0;32m    347\u001b[0m         \u001b[1;32melse\u001b[0m\u001b[1;33m:\u001b[0m\u001b[1;33m\u001b[0m\u001b[1;33m\u001b[0m\u001b[0m\n",
            "\u001b[1;32mc:\\Users\\Jhoan\\Documents\\personal\\universidad\\maq\\lib\\site-packages\\graphviz\\files.py\u001b[0m in \u001b[0;36m_repr_svg_\u001b[1;34m(self)\u001b[0m\n\u001b[0;32m    142\u001b[0m \u001b[1;33m\u001b[0m\u001b[0m\n\u001b[0;32m    143\u001b[0m     \u001b[1;32mdef\u001b[0m \u001b[0m_repr_svg_\u001b[0m\u001b[1;33m(\u001b[0m\u001b[0mself\u001b[0m\u001b[1;33m)\u001b[0m\u001b[1;33m:\u001b[0m\u001b[1;33m\u001b[0m\u001b[1;33m\u001b[0m\u001b[0m\n\u001b[1;32m--> 144\u001b[1;33m         \u001b[1;32mreturn\u001b[0m \u001b[0mself\u001b[0m\u001b[1;33m.\u001b[0m\u001b[0mpipe\u001b[0m\u001b[1;33m(\u001b[0m\u001b[0mformat\u001b[0m\u001b[1;33m=\u001b[0m\u001b[1;34m'svg'\u001b[0m\u001b[1;33m)\u001b[0m\u001b[1;33m.\u001b[0m\u001b[0mdecode\u001b[0m\u001b[1;33m(\u001b[0m\u001b[0mself\u001b[0m\u001b[1;33m.\u001b[0m\u001b[0m_encoding\u001b[0m\u001b[1;33m)\u001b[0m\u001b[1;33m\u001b[0m\u001b[1;33m\u001b[0m\u001b[0m\n\u001b[0m\u001b[0;32m    145\u001b[0m \u001b[1;33m\u001b[0m\u001b[0m\n\u001b[0;32m    146\u001b[0m     \u001b[1;32mdef\u001b[0m \u001b[0mpipe\u001b[0m\u001b[1;33m(\u001b[0m\u001b[0mself\u001b[0m\u001b[1;33m,\u001b[0m \u001b[0mformat\u001b[0m\u001b[1;33m=\u001b[0m\u001b[1;32mNone\u001b[0m\u001b[1;33m,\u001b[0m \u001b[0mrenderer\u001b[0m\u001b[1;33m=\u001b[0m\u001b[1;32mNone\u001b[0m\u001b[1;33m,\u001b[0m \u001b[0mformatter\u001b[0m\u001b[1;33m=\u001b[0m\u001b[1;32mNone\u001b[0m\u001b[1;33m,\u001b[0m \u001b[0mquiet\u001b[0m\u001b[1;33m=\u001b[0m\u001b[1;32mFalse\u001b[0m\u001b[1;33m)\u001b[0m\u001b[1;33m:\u001b[0m\u001b[1;33m\u001b[0m\u001b[1;33m\u001b[0m\u001b[0m\n",
            "\u001b[1;32mc:\\Users\\Jhoan\\Documents\\personal\\universidad\\maq\\lib\\site-packages\\graphviz\\files.py\u001b[0m in \u001b[0;36mpipe\u001b[1;34m(self, format, renderer, formatter, quiet)\u001b[0m\n\u001b[0;32m    167\u001b[0m         \u001b[0mdata\u001b[0m \u001b[1;33m=\u001b[0m \u001b[0mtext_type\u001b[0m\u001b[1;33m(\u001b[0m\u001b[0mself\u001b[0m\u001b[1;33m.\u001b[0m\u001b[0msource\u001b[0m\u001b[1;33m)\u001b[0m\u001b[1;33m.\u001b[0m\u001b[0mencode\u001b[0m\u001b[1;33m(\u001b[0m\u001b[0mself\u001b[0m\u001b[1;33m.\u001b[0m\u001b[0m_encoding\u001b[0m\u001b[1;33m)\u001b[0m\u001b[1;33m\u001b[0m\u001b[1;33m\u001b[0m\u001b[0m\n\u001b[0;32m    168\u001b[0m \u001b[1;33m\u001b[0m\u001b[0m\n\u001b[1;32m--> 169\u001b[1;33m         out = backend.pipe(self._engine, format, data,\n\u001b[0m\u001b[0;32m    170\u001b[0m                            \u001b[0mrenderer\u001b[0m\u001b[1;33m=\u001b[0m\u001b[0mrenderer\u001b[0m\u001b[1;33m,\u001b[0m \u001b[0mformatter\u001b[0m\u001b[1;33m=\u001b[0m\u001b[0mformatter\u001b[0m\u001b[1;33m,\u001b[0m\u001b[1;33m\u001b[0m\u001b[1;33m\u001b[0m\u001b[0m\n\u001b[0;32m    171\u001b[0m                            quiet=quiet)\n",
            "\u001b[1;32mc:\\Users\\Jhoan\\Documents\\personal\\universidad\\maq\\lib\\site-packages\\graphviz\\backend.py\u001b[0m in \u001b[0;36mpipe\u001b[1;34m(engine, format, data, renderer, formatter, quiet)\u001b[0m\n\u001b[0;32m    246\u001b[0m     \"\"\"\n\u001b[0;32m    247\u001b[0m     \u001b[0mcmd\u001b[0m\u001b[1;33m,\u001b[0m \u001b[0m_\u001b[0m \u001b[1;33m=\u001b[0m \u001b[0mcommand\u001b[0m\u001b[1;33m(\u001b[0m\u001b[0mengine\u001b[0m\u001b[1;33m,\u001b[0m \u001b[0mformat\u001b[0m\u001b[1;33m,\u001b[0m \u001b[1;32mNone\u001b[0m\u001b[1;33m,\u001b[0m \u001b[0mrenderer\u001b[0m\u001b[1;33m,\u001b[0m \u001b[0mformatter\u001b[0m\u001b[1;33m)\u001b[0m\u001b[1;33m\u001b[0m\u001b[1;33m\u001b[0m\u001b[0m\n\u001b[1;32m--> 248\u001b[1;33m     \u001b[0mout\u001b[0m\u001b[1;33m,\u001b[0m \u001b[0m_\u001b[0m \u001b[1;33m=\u001b[0m \u001b[0mrun\u001b[0m\u001b[1;33m(\u001b[0m\u001b[0mcmd\u001b[0m\u001b[1;33m,\u001b[0m \u001b[0minput\u001b[0m\u001b[1;33m=\u001b[0m\u001b[0mdata\u001b[0m\u001b[1;33m,\u001b[0m \u001b[0mcapture_output\u001b[0m\u001b[1;33m=\u001b[0m\u001b[1;32mTrue\u001b[0m\u001b[1;33m,\u001b[0m \u001b[0mcheck\u001b[0m\u001b[1;33m=\u001b[0m\u001b[1;32mTrue\u001b[0m\u001b[1;33m,\u001b[0m \u001b[0mquiet\u001b[0m\u001b[1;33m=\u001b[0m\u001b[0mquiet\u001b[0m\u001b[1;33m)\u001b[0m\u001b[1;33m\u001b[0m\u001b[1;33m\u001b[0m\u001b[0m\n\u001b[0m\u001b[0;32m    249\u001b[0m     \u001b[1;32mreturn\u001b[0m \u001b[0mout\u001b[0m\u001b[1;33m\u001b[0m\u001b[1;33m\u001b[0m\u001b[0m\n\u001b[0;32m    250\u001b[0m \u001b[1;33m\u001b[0m\u001b[0m\n",
            "\u001b[1;32mc:\\Users\\Jhoan\\Documents\\personal\\universidad\\maq\\lib\\site-packages\\graphviz\\backend.py\u001b[0m in \u001b[0;36mrun\u001b[1;34m(cmd, input, capture_output, check, encoding, quiet, **kwargs)\u001b[0m\n\u001b[0;32m    181\u001b[0m \u001b[1;33m\u001b[0m\u001b[0m\n\u001b[0;32m    182\u001b[0m     \u001b[1;32mif\u001b[0m \u001b[0mcheck\u001b[0m \u001b[1;32mand\u001b[0m \u001b[0mproc\u001b[0m\u001b[1;33m.\u001b[0m\u001b[0mreturncode\u001b[0m\u001b[1;33m:\u001b[0m\u001b[1;33m\u001b[0m\u001b[1;33m\u001b[0m\u001b[0m\n\u001b[1;32m--> 183\u001b[1;33m         raise CalledProcessError(proc.returncode, cmd,\n\u001b[0m\u001b[0;32m    184\u001b[0m                                  output=out, stderr=err)\n\u001b[0;32m    185\u001b[0m \u001b[1;33m\u001b[0m\u001b[0m\n",
            "\u001b[1;31mCalledProcessError\u001b[0m: Command '['dot', '-Kdot', '-Tsvg']' returned non-zero exit status 1. [stderr: b\"Error: <stdin>: syntax error in line 3 near '''\\r\\n\"]"
          ]
        }
      ],
      "source": [
        "from graphviz import Source\n",
        "\n",
        "Source.from_file('test/round-table.gv')\n"
      ]
    },
    {
      "cell_type": "code",
      "execution_count": null,
      "metadata": {},
      "outputs": [],
      "source": []
    }
  ]
}